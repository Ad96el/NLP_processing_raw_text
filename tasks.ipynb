{
 "metadata": {
  "language_info": {
   "codemirror_mode": {
    "name": "ipython",
    "version": 3
   },
   "file_extension": ".py",
   "mimetype": "text/x-python",
   "name": "python",
   "nbconvert_exporter": "python",
   "pygments_lexer": "ipython3",
   "version": "3.7.0-final"
  },
  "orig_nbformat": 2,
  "kernelspec": {
   "name": "python37364bitbasecondabd88c407e14c40be84e83b5bdd135b46",
   "display_name": "Python 3.7.3 64-bit ('base': conda)"
  }
 },
 "nbformat": 4,
 "nbformat_minor": 2,
 "cells": [
  {
   "source": [
    "<center> <h1> Natural Language Processing with Python </h1></center>\n",
    "<center> <h3> Processing Raw Text  </h3></center> "
   ],
   "cell_type": "markdown",
   "metadata": {}
  },
  {
   "source": [
    "The goal of this chapter is to answer the questions: \n",
    "\n",
    "\n",
    "- How can we write programs to access texts?\n",
    "\n",
    "- How can we process those text?\n",
    "\n",
    "- How can we write programs to produce formatted output and save those?\n",
    " "
   ],
   "cell_type": "markdown",
   "metadata": {}
  },
  {
   "source": [
    "## Some Basics in Python\n",
    "\n",
    "For process some raw text it is necessary to remind the fundamental data type strings and his functionalities."
   ],
   "cell_type": "markdown",
   "metadata": {}
  },
  {
   "cell_type": "code",
   "execution_count": null,
   "metadata": {},
   "outputs": [],
   "source": [
    "example = \"This is an example string!\"\n",
    "\n",
    "\"\"\"\n",
    "We can index the values of a string, by using [index].\n",
    "Remind: in python negative index values are also possible!\n",
    "\"\"\"\n",
    "\n",
    "print(example[0])\n",
    "print(example[1])\n",
    "\n",
    "\"\"\"\n",
    "The concatenation of two strings can be realised by \"+\".\n",
    "\"\"\"\n",
    "\n",
    "example2 = \"This is an other example of a string!\"\n",
    "print(example + example2)\n",
    "\n",
    "\"\"\"\n",
    "We can also access to substrings by using square brackets. \n",
    "The first value is determining the start of the substring. The Second value the end and the last value the step length: [start:end:step_lenght]\n",
    "\"\"\"\n",
    "\n",
    "print(example[:10])\n",
    "print(example[10:])\n",
    "print(example[::2])"
   ]
  },
  {
   "source": [
    "<h3 style =\"color: red\" > Tasks: <h3 />\n",
    "\n",
    "- Define a string s = 'The Godfther'. Write statement that changes this to \"The Godfather\". You can only use concatenation and slicing.  \n",
    "\n",
    "- What will happen if we will access on the 13rd element of the string s? Why? \n"
   ],
   "cell_type": "markdown",
   "metadata": {}
  },
  {
   "cell_type": "code",
   "execution_count": null,
   "metadata": {},
   "outputs": [],
   "source": [
    "# your code here: "
   ]
  },
  {
   "source": [
    "## Accessing Text\n",
    "\n",
    "In this section we will discuss three methods for acessing text. \n",
    "\n",
    "- Reading local Files (.txt)\n",
    "- Text from binary formats  (PDF)\n",
    "- the Web"
   ],
   "cell_type": "markdown",
   "metadata": {}
  },
  {
   "source": [
    "#### Acessing Text from local file system"
   ],
   "cell_type": "markdown",
   "metadata": {}
  },
  {
   "cell_type": "code",
   "execution_count": null,
   "metadata": {},
   "outputs": [],
   "source": [
    "def get_text_from_txt(path):\n",
    "    f = open(path)\n",
    "    raw= f.read() \n",
    "    return raw\n",
    "\n",
    "example1 = get_text_from_txt(\"./example.txt\")\n",
    "print(example1[:100])"
   ]
  },
  {
   "source": [
    "#### Acessing Text from binary Formats"
   ],
   "cell_type": "markdown",
   "metadata": {}
  },
  {
   "cell_type": "code",
   "execution_count": null,
   "metadata": {},
   "outputs": [],
   "source": [
    "import pdfplumber\n",
    "\n",
    "def get_text_from_pdf(path):\n",
    "    with pdfplumber.open(path) as pdf:\n",
    "        first_page = pdf.pages[0]\n",
    "        print(first_page.extract_text()[:100])\n",
    "example2 = get_text_from_pdf(\"./example.pdf\")\n",
    "print(example2)"
   ]
  },
  {
   "cell_type": "code",
   "execution_count": null,
   "metadata": {},
   "outputs": [],
   "source": [
    "from urllib.request import urlopen\n",
    "\n",
    "def get_text_from_url(url):\n",
    "    raw = urlopen(url).read() \n",
    "    return raw\n",
    "\n",
    "url = \"https://en.wikipedia.org/wiki/The_Godfather\"\n",
    "raw = get_text_from_url(url)\n",
    "\n",
    "print(type(raw))\n",
    "print(len(raw))\n",
    "print(\"Content of the Website: \\n\" + str(raw[7200:7500]))"
   ]
  },
  {
   "source": [
    "By access text from the Web, we will always receive all meta tags from the HTML protocol.\n",
    "\n",
    "<a href=\"https://www.crummy.com/software/BeautifulSoup/bs4/doc/\">Beautiful Soup</a>  is a providing helper function for pulling the text out of the tags."
   ],
   "cell_type": "markdown",
   "metadata": {}
  },
  {
   "cell_type": "code",
   "execution_count": null,
   "metadata": {},
   "outputs": [],
   "source": [
    "from bs4 import BeautifulSoup\n",
    "soup = BeautifulSoup(raw)\n",
    "text = soup.find_all(\"p\") \n",
    "print(len(text))\n",
    "print(text[1].get_text())"
   ]
  },
  {
   "source": [
    "<h3 style =\"color: red\" > Tasks: <h3 />\n",
    "\n",
    "- Write a code to get the the current teperature of Berlin. \n",
    "\n",
    "(Hint: use this Link: https://www.bbc.com/weather/2950159. The important area can be identified by the class=\"wr-value--temperature--c\")\n",
    "\n",
    " "
   ],
   "cell_type": "markdown",
   "metadata": {}
  },
  {
   "source": [
    "# your code here \n",
    "from urllib.request import urlopen\n",
    "from bs4 import BeautifulSoup\n",
    "url = \"https://www.bbc.com/weather/2950159\"\n",
    "raw = urlopen(url).read()\n",
    "temp = BeautifulSoup(raw).find(class_=\"wr-value--temperature--c\").get_text()\n",
    "temp"
   ],
   "cell_type": "code",
   "metadata": {},
   "execution_count": null,
   "outputs": []
  },
  {
   "source": [
    "## Processing Text\n",
    "\n",
    "In this section we cover:\n",
    "\n",
    "- how we can deal with different Languages\n",
    "\n",
    "- the use of regular expressions for stemming and detection of word stems\n",
    "\n"
   ],
   "cell_type": "markdown",
   "metadata": {}
  },
  {
   "source": [
    "### Text Processing with Unicode\n",
    "\n",
    "Unicode supports over a million characters."
   ],
   "cell_type": "markdown",
   "metadata": {}
  },
  {
   "cell_type": "code",
   "execution_count": null,
   "metadata": {},
   "outputs": [],
   "source": [
    "import codecs \n",
    "import unicodedata\n",
    "\n",
    "line = codecs.open(\"./example2.txt\", encoding=\"utf-8\").readlines()[0]\n",
    "\n",
    "print(line.encode(\"unicode_escape\") )\n",
    "\n",
    "for c in line:\n",
    "    if(ord(c) > 127):\n",
    "        print(c, c.encode(\"unicode_escape\") , ord(c) ,unicodedata.name(c))\n",
    " "
   ]
  },
  {
   "cell_type": "code",
   "execution_count": null,
   "metadata": {},
   "outputs": [],
   "source": [
    "line.encode(\"GB2312\")"
   ]
  },
  {
   "cell_type": "code",
   "execution_count": null,
   "metadata": {},
   "outputs": [],
   "source": [
    "line = line.replace('ø' , \"o|\")\n",
    "line = line.replace(\"å\" , \"a_\") \n",
    "print(line.encode(\"GB2312\"))"
   ]
  },
  {
   "source": [
    "Unicode is supporting over a million characters. \n",
    "\n",
    "<img src=\"https://www.nltk.org/images/unicode.png\" width=\"90%\" height=\"400\"/>"
   ],
   "cell_type": "markdown",
   "metadata": {}
  },
  {
   "source": [
    "### Regular Expressions\n",
    "\n",
    "In NLP, there are a lot of tasks involving pattern matching. Regular expressions give us a powerful and flexible method."
   ],
   "cell_type": "markdown",
   "metadata": {}
  },
  {
   "cell_type": "code",
   "execution_count": null,
   "metadata": {},
   "outputs": [],
   "source": []
  },
  {
   "cell_type": "code",
   "execution_count": null,
   "metadata": {},
   "outputs": [],
   "source": []
  },
  {
   "source": [],
   "cell_type": "markdown",
   "metadata": {}
  },
  {
   "source": [
    "The Figure below is summarizing what we have covered yet.\n",
    "\n",
    "<img src=\"https://www.nltk.org/images/pipeline1.png\" width=\"90%\" height=\"400\"/>\n"
   ],
   "cell_type": "markdown",
   "metadata": {}
  }
 ]
}