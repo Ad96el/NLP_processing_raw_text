{
 "metadata": {
  "language_info": {
   "codemirror_mode": {
    "name": "ipython",
    "version": 3
   },
   "file_extension": ".py",
   "mimetype": "text/x-python",
   "name": "python",
   "nbconvert_exporter": "python",
   "pygments_lexer": "ipython3",
   "version": "3.7.0-final"
  },
  "orig_nbformat": 2,
  "kernelspec": {
   "name": "python37364bitbasecondabd88c407e14c40be84e83b5bdd135b46",
   "display_name": "Python 3.7.3 64-bit ('base': conda)"
  }
 },
 "nbformat": 4,
 "nbformat_minor": 2,
 "cells": [
  {
   "source": [
    "<center> <h1> Natural Language Processing with Python </h1></center>\n",
    "<center> <h3> Processing Raw Text  </h3></center> "
   ],
   "cell_type": "markdown",
   "metadata": {}
  },
  {
   "source": [
    "The goal of this chapter is to answer the questions: \n",
    "\n",
    "\n",
    "- How can we write programs to access texts?\n",
    "\n",
    "- How can we process those text?\n",
    "\n",
    "- How can we write programs to produce formatted output and save those?\n",
    " "
   ],
   "cell_type": "markdown",
   "metadata": {}
  },
  {
   "source": [
    "## Some Basics in Python\n",
    "\n",
    "For process some raw text it is necessary to remind the fundamental data type strings and his functionalities."
   ],
   "cell_type": "markdown",
   "metadata": {}
  },
  {
   "cell_type": "code",
   "execution_count": 4,
   "metadata": {},
   "outputs": [
    {
     "output_type": "stream",
     "name": "stdout",
     "text": [
      "T\nh\nThis is an example string!This is an other example of a string!\nThis is an\n example string!\nTi sa xml tig\n"
     ]
    }
   ],
   "source": [
    "example = \"This is an example string!\"\n",
    "\n",
    "\"\"\"\n",
    "We can index the values of a string, by using [index].\n",
    "Remind: in python negative index values are also possible!\n",
    "\"\"\"\n",
    "\n",
    "print(example[0])\n",
    "print(example[1])\n",
    "\n",
    "\"\"\"\n",
    "The concatenation of two strings can be realised by \"+\".\n",
    "\"\"\"\n",
    "\n",
    "example2 = \"This is an other example of a string!\"\n",
    "print(example + example2)\n",
    "\n",
    "\"\"\"\n",
    "We can also access to substrings by using square brackets. \n",
    "The first value is determining the start of the substring. The Second value the end and the last value the step length: [start:end:step_lenght]\n",
    "\"\"\"\n",
    "\n",
    "print(example[:10])\n",
    "print(example[10:])\n",
    "print(example[::2])"
   ]
  },
  {
   "source": [
    "<h3 style =\"color: red\" > Tasks: <h3 />\n",
    "\n",
    "- Define a string s = 'The Godfther'. Write statement that changes this to \"The Godfather\". You can only use concatenation and slicing.  \n",
    "\n",
    "- What will happen if we will access on the 13rd element of the string s? Why? \n"
   ],
   "cell_type": "markdown",
   "metadata": {}
  },
  {
   "cell_type": "code",
   "execution_count": 5,
   "metadata": {},
   "outputs": [],
   "source": [
    "# your code here: "
   ]
  },
  {
   "source": [
    "## Accessing Text\n",
    "\n",
    "In this section we will discuss three methods for acessing text. \n",
    "\n",
    "- Reading local Files (.txt)\n",
    "- Text from binary formats  (PDF)\n",
    "- the Web"
   ],
   "cell_type": "markdown",
   "metadata": {}
  },
  {
   "source": [
    "#### Acessing Text from local file system"
   ],
   "cell_type": "markdown",
   "metadata": {}
  },
  {
   "cell_type": "code",
   "execution_count": 1,
   "metadata": {},
   "outputs": [
    {
     "output_type": "stream",
     "name": "stdout",
     "text": [
      "This is an example!\n"
     ]
    }
   ],
   "source": [
    "def get_text_from_txt(path):\n",
    "    f = open(path)\n",
    "    raw= f.read() \n",
    "    return raw\n",
    "\n",
    "data = get_text_from_txt(\"./example.txt\")\n",
    "print(data)"
   ]
  },
  {
   "source": [
    "#### Acessing Text from binary Formats"
   ],
   "cell_type": "markdown",
   "metadata": {}
  },
  {
   "cell_type": "code",
   "execution_count": 3,
   "metadata": {},
   "outputs": [
    {
     "output_type": "stream",
     "name": "stdout",
     "text": [
      "Freie Universita¨t Berlin\nInstitut fu¨r Mathematik Wintersemester 2020/21\nWahrscheinlichkeit und Sta\n"
     ]
    }
   ],
   "source": [
    "import pdfplumber\n",
    "\n",
    "def get_text_from_pdf(path):\n",
    "    with pdfplumber.open(path) as pdf:\n",
    "        first_page = pdf.pages[0]\n",
    "        print(first_page.extract_text()[:100])\n",
    "get_text_from_pdf(\"./example.pdf\")"
   ]
  },
  {
   "cell_type": "code",
   "execution_count": 5,
   "metadata": {},
   "outputs": [
    {
     "output_type": "stream",
     "name": "stdout",
     "text": [
      "<class 'bytes'>\n576570\nContent of the Website: \nb'-vector action-view skin-vector-legacy\"><div id=\"mw-page-base\" class=\"noprint\"></div>\\n<div id=\"mw-head-base\" class=\"noprint\"></div>\\n<div id=\"content\" class=\"mw-body\" role=\"main\">\\n\\t<a id=\"top\"></a>\\n\\t<div id=\"siteNotice\" class=\"mw-body-content\"><!-- CentralNotice --></div>\\n\\t<div class=\"mw-indicators m'\n"
     ]
    }
   ],
   "source": [
    "from urllib.request import urlopen\n",
    "\n",
    "def get_text_from_url(url):\n",
    "    raw = urlopen(url).read()\n",
    "    return raw\n",
    "\n",
    "url = \"https://en.wikipedia.org/wiki/The_Godfather\"\n",
    "raw = get_text_from_url(url)\n",
    "\n",
    "print(type(raw))\n",
    "print(len(raw))\n",
    "print(\"Content of the Website: \\n\" + str(raw[7200:7500]))"
   ]
  },
  {
   "source": [
    "By access text from the Web, we will always receive all meta tags from the HTML protocol.\n",
    "\n",
    "<a href=\"https://www.crummy.com/software/BeautifulSoup/bs4/doc/\">Beautiful Soup</a>  is a providing helper function for pulling the text out of the tags."
   ],
   "cell_type": "markdown",
   "metadata": {}
  },
  {
   "cell_type": "code",
   "execution_count": 7,
   "metadata": {},
   "outputs": [
    {
     "output_type": "stream",
     "name": "stdout",
     "text": [
      "None\n"
     ]
    }
   ],
   "source": [
    "from bs4 import BeautifulSoup\n",
    "soup = BeautifulSoup(raw)\n",
    "text = soup.find(\"p\").get_text()\n",
    "print(text)"
   ]
  },
  {
   "source": [
    "<h3 style =\"color: red\" > Tasks: <h3 />\n",
    "\n",
    "- Write a code to get the the current teperature of Berlin. Save the value as temp. \n",
    "\n",
    "(Hint: use this Link: https://www.timeanddate.com/weather/germany/berlin. The important area can be identified by the id=\"qlook\" by the first 50 chars.)\n",
    "\n",
    " "
   ],
   "cell_type": "markdown",
   "metadata": {}
  },
  {
   "source": [
    "# your code here \n",
    "from urllib.request import urlopen\n",
    "from bs4 import BeautifulSoup\n",
    "url = \"https://www.timeanddate.com/weather/germany/berlin\"\n",
    "raw = urlopen(url).read()\n",
    "temp = BeautifulSoup(raw).find(id=\"qlook\").get_text()\n",
    "print(temp)"
   ],
   "cell_type": "code",
   "metadata": {},
   "execution_count": 171,
   "outputs": [
    {
     "output_type": "stream",
     "name": "stdout",
     "text": [
      "Now1 °CPassing clouds.Feels Like: -4 °CForecast: 5 / -1 °CWind: 20 km/h ↑ from South\n"
     ]
    }
   ]
  },
  {
   "source": [
    "## Processing Text\n",
    "\n"
   ],
   "cell_type": "markdown",
   "metadata": {}
  },
  {
   "cell_type": "code",
   "execution_count": 177,
   "metadata": {},
   "outputs": [
    {
     "output_type": "stream",
     "name": "stdout",
     "text": [
      "utf-8\nNow1Â Â°CPassing clouds.Feels Like: -4Â Â°CForecast: 5 / -1Â Â°CWind: 20 km/h â from South\nb'\\\\xa0' 160 NO-BREAK SPACE\nb'\\\\xb0' 176 DEGREE SIGN\nb'\\\\xa0' 160 NO-BREAK SPACE\nb'\\\\xb0' 176 DEGREE SIGN\nb'\\\\xa0' 160 NO-BREAK SPACE\nb'\\\\xb0' 176 DEGREE SIGN\nb'\\\\u2191' 8593 UPWARDS ARROW\n"
     ]
    }
   ],
   "source": [
    "# may be add the ascii table ? \n",
    "import sys\n",
    "import unicodedata\n",
    "print(sys.getdefaultencoding())\n",
    " \n",
    "for c in temp:  \n",
    "    if( ord(c) > 127):\n",
    "        print(c.encode(\"unicode_escape\") , ord(c) , unicodedata.name(c))\n",
    "\n"
   ]
  },
  {
   "source": [
    "Unicode is supporting over a million characters. \n",
    "\n",
    "<img src=\"https://www.nltk.org/images/unicode.png\" width=\"90%\" height=\"400\"/>"
   ],
   "cell_type": "markdown",
   "metadata": {}
  },
  {
   "source": [],
   "cell_type": "markdown",
   "metadata": {}
  },
  {
   "cell_type": "code",
   "execution_count": 11,
   "metadata": {},
   "outputs": [
    {
     "output_type": "stream",
     "name": "stdout",
     "text": [
      "Now0 °CPassing clouds.Feels Like: -5 °CForecast: 5 / -1 °CWind: 17 km/h ↑ from Southeast\n"
     ]
    }
   ],
   "source": [
    "import unicodedata\n",
    "word = temp.replace(unicodedata.normalize( \"NFC\",\"\\xa0Â\"), \" \")\n",
    "print(word)"
   ]
  },
  {
   "source": [
    "The Figure below is summarizing what we have covered yet.\n",
    "\n",
    "<img src=\"https://www.nltk.org/images/pipeline1.png\" width=\"90%\" height=\"400\"/>\n"
   ],
   "cell_type": "markdown",
   "metadata": {}
  }
 ]
}