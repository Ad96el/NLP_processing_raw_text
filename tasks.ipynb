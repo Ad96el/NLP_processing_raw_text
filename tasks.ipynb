{
 "metadata": {
  "language_info": {
   "codemirror_mode": {
    "name": "ipython",
    "version": 3
   },
   "file_extension": ".py",
   "mimetype": "text/x-python",
   "name": "python",
   "nbconvert_exporter": "python",
   "pygments_lexer": "ipython3",
   "version": "3.7.0-final"
  },
  "orig_nbformat": 2,
  "kernelspec": {
   "name": "python37364bitbasecondabd88c407e14c40be84e83b5bdd135b46",
   "display_name": "Python 3.7.3 64-bit ('base': conda)",
   "language": "python"
  }
 },
 "nbformat": 4,
 "nbformat_minor": 2,
 "cells": [
  {
   "source": [
    "<center> <h1> Natural Language Processing with Python </h1> </center>\n",
    "<center> <h2> Processing Raw Text  </h2> </center> \n",
    "<center> <img height=\"300\" src=\"https://3qeqpr26caki16dnhd19sv6by6v-wpengine.netdna-ssl.com/wp-content/uploads/2017/09/Natural-Language-Processing-with-Python.jpg\"> </ center>"
   ],
   "cell_type": "markdown",
   "metadata": {}
  },
  {
   "source": [
    "## Goals\n",
    "\n",
    "The goal of this chapter is to answer the questions: \n",
    "\n",
    "\n",
    "- How can we write programs to access texts?\n",
    "\n",
    "- How can we process those text?\n",
    "\n",
    "- How can we write programs to produce formatted output and save those?\n",
    " "
   ],
   "cell_type": "markdown",
   "metadata": {}
  },
  {
   "source": [
    "_______"
   ],
   "cell_type": "markdown",
   "metadata": {}
  },
  {
   "source": [
    "## Some Basics in Python\n"
   ],
   "cell_type": "markdown",
   "metadata": {}
  },
  {
   "cell_type": "code",
   "execution_count": null,
   "metadata": {},
   "outputs": [],
   "source": [
    "example = \"This is an example string!\"\n",
    "\n",
    "\"\"\"\n",
    "We can index the values of a string, by using [index].\n",
    "Remind: in python negative index values are also possible!\n",
    "\"\"\"\n",
    "\n",
    "print(example[0])\n",
    "print(example[1])\n",
    "\n",
    "\"\"\"\n",
    "The concatenation of two strings can be realised by \"+\".\n",
    "\"\"\"\n",
    "\n",
    "example2 = \"This is an other example of a string!\"\n",
    "print(example + example2)\n",
    "\n",
    "\"\"\"\n",
    "We can also access to substrings by using square brackets. \n",
    "The first value is determining the start of the substring. The Second value the end and the last value the step length: [start:end:step_lenght]\n",
    "\"\"\"\n",
    "\n",
    "print(example[:10])\n",
    "print(example[10:])\n",
    "print(example[::2])"
   ]
  },
  {
   "source": [
    "<h3 style =\"color: red\" > Tasks: <h3 />\n",
    "\n",
    "- Define a string s = 'The Godfther'. Write a statement that changes this to \"The Godfather\". You can only use concatenation and slicing.  \n",
    "\n",
    "- What will happen if we will access on the 13rd element of the string s? Why? \n"
   ],
   "cell_type": "markdown",
   "metadata": {}
  },
  {
   "cell_type": "code",
   "execution_count": null,
   "metadata": {},
   "outputs": [],
   "source": [
    "# your code here: "
   ]
  },
  {
   "source": [
    "________"
   ],
   "cell_type": "markdown",
   "metadata": {}
  },
  {
   "source": [
    "## Accessing Text\n",
    "\n",
    "In this section we will discuss three methods for acessing text. \n",
    "\n",
    "- Reading local Files (.txt, PDF) \n",
    "- Web"
   ],
   "cell_type": "markdown",
   "metadata": {}
  },
  {
   "source": [
    "#### Acessing Text from local file system"
   ],
   "cell_type": "markdown",
   "metadata": {}
  },
  {
   "cell_type": "code",
   "execution_count": null,
   "metadata": {},
   "outputs": [],
   "source": [
    "def get_text_from_txt(path):\n",
    "    f = open(path)\n",
    "    raw = f.read() \n",
    "    return raw\n",
    "\n",
    "example1 = get_text_from_txt(\"./example.txt\")\n",
    "print(example1[:100])"
   ]
  },
  {
   "source": [
    "#### Acessing Text from binary Formats\n",
    "\n",
    "For more information, please have a look on <a href=\"https://github.com/jsvine/pdfplumber\">PDFplumber</a> documentation."
   ],
   "cell_type": "markdown",
   "metadata": {}
  },
  {
   "cell_type": "code",
   "execution_count": null,
   "metadata": {},
   "outputs": [],
   "source": [
    "import pdfplumber\n",
    "\n",
    "def get_text_from_pdf(path):\n",
    "    with pdfplumber.open(path) as pdf:\n",
    "        first_page = pdf.pages[0]\n",
    "        print(len(pdf.pages))\n",
    "        print(first_page.extract_text()[:100])\n",
    "\n",
    "get_text_from_pdf(\"./example.pdf\")"
   ]
  },
  {
   "source": [
    "#### Acessing Text from web\n"
   ],
   "cell_type": "markdown",
   "metadata": {}
  },
  {
   "cell_type": "code",
   "execution_count": null,
   "metadata": {},
   "outputs": [],
   "source": [
    "from urllib.request import urlopen\n",
    "\n",
    "def get_text_from_url(url):\n",
    "    raw = urlopen(url).read() \n",
    "    return raw\n",
    "\n",
    "url = \"https://en.wikipedia.org/wiki/The_Godfather\"\n",
    "raw = get_text_from_url(url)\n",
    "\n",
    "print(type(raw))\n",
    "print(len(raw))\n",
    "print(\"Content of the Website: \\n\" ,raw[:100])"
   ]
  },
  {
   "source": [
    "By access text from the Web, we will always receive all meta tags from the HTML protocol.\n",
    "\n",
    "<a href=\"https://www.crummy.com/software/BeautifulSoup/bs4/doc/\">Beautiful Soup</a>  is a providing helper function for pulling the text out of the tags."
   ],
   "cell_type": "markdown",
   "metadata": {}
  },
  {
   "cell_type": "code",
   "execution_count": null,
   "metadata": {},
   "outputs": [],
   "source": [
    "from bs4 import BeautifulSoup\n",
    "\n",
    "soup = BeautifulSoup(raw)\n",
    "\n",
    "soup.get_text()[:100]"
   ]
  },
  {
   "cell_type": "code",
   "execution_count": null,
   "metadata": {},
   "outputs": [],
   "source": [
    "text = soup.find(id=\"firstHeading\")"
   ]
  },
  {
   "cell_type": "code",
   "execution_count": null,
   "metadata": {},
   "outputs": [],
   "source": [
    "text = soup.find_all(\"p\") \n",
    "print(len(text))\n",
    "print(text[1].get_text())"
   ]
  },
  {
   "source": [
    "<h3 style =\"color: red\" > Tasks: <h3 />\n",
    "\n",
    "- Write a code to get the the current teperature of Berlin. \n",
    "\n",
    "(Hint: use this Link: https://www.bbc.com/weather/2950159. The important area can be identified by the class=\"wr-value--temperature--c\")\n",
    "\n",
    " "
   ],
   "cell_type": "markdown",
   "metadata": {}
  },
  {
   "source": [
    "# your code here "
   ],
   "cell_type": "code",
   "metadata": {},
   "execution_count": null,
   "outputs": []
  },
  {
   "source": [
    "_____________________"
   ],
   "cell_type": "markdown",
   "metadata": {}
  },
  {
   "source": [
    "## Processing Text\n",
    "\n",
    "In this section we cover:\n",
    "\n",
    "- how we can deal with different Languages\n",
    "\n",
    "- the use of regular expressions for stemming \n",
    "\n"
   ],
   "cell_type": "markdown",
   "metadata": {}
  },
  {
   "source": [
    "### Text Processing with Unicode\n",
    "\n",
    "Unicode supports over a million characters.\n",
    "\n",
    "written form: \\XXXX"
   ],
   "cell_type": "markdown",
   "metadata": {}
  },
  {
   "cell_type": "code",
   "execution_count": null,
   "metadata": {},
   "outputs": [],
   "source": [
    "import codecs \n",
    "import unicodedata\n",
    "\n",
    "line = codecs.open(\"./example2.txt\", encoding=\"utf-8\").readlines()[0]\n",
    "\n",
    "print(line.encode(\"unicode_escape\") )\n",
    "\n",
    "for c in line:\n",
    "    if(ord(c) > 127):\n",
    "        print(c, c.encode(\"unicode_escape\") , ord(c) ,unicodedata.name(c))\n",
    " "
   ]
  },
  {
   "cell_type": "code",
   "execution_count": null,
   "metadata": {},
   "outputs": [],
   "source": [
    "line = line.replace('ø' , \"o|\")\n",
    "line = line.replace(\"å\" , \"a_\") \n",
    "print(line.encode(\"GB2312\"))"
   ]
  },
  {
   "source": [
    "\n",
    "<img src=\"https://www.nltk.org/images/unicode.png\" width=\"90%\" height=\"400\"/>"
   ],
   "cell_type": "markdown",
   "metadata": {}
  },
  {
   "source": [
    "__________________"
   ],
   "cell_type": "markdown",
   "metadata": {}
  },
  {
   "source": [
    "### Regular Expressions\n",
    "\n",
    "In NLP, there are a lot of tasks involving pattern matching. Regular expressions give us a powerful and flexible method.\n",
    "\n",
    "\n",
    "|Operator |Behavior     |\n",
    "|-------------|-------------|\n",
    "| .     | Wildcard, matches any character|\n",
    "| ^abc      | Matches some pattern abc at the start of a string    | \n",
    "| abc$ | Matches some pattern abc at the end of a string     | \n",
    "| \\[abc\\]      | Matches one of a set of characters|\n",
    "| \\[A-Z\\]      | Matches one of a range of characters  | \n",
    "| ed\\|es | Matches one of the specified strings (disjunction)  | \n",
    "| *      | Zero or more of previous item, e.g. a\\*, \\[a-z\\]\\* (also known as Kleene Closure)|\n",
    "| +      | One or more of previous item, e.g. a+, \\[a-z\\]+    | \n",
    "| ? | Zero or one of the previous item (i.e. optional), e.g. a?, \\[a-z\\]?   | \n",
    "| {n}      | Exactly n repeats where n is a non-negative integer|\n",
    "| {n,}      | At least n repeats | \n",
    "| {,n} | No more than n repeats   | \n",
    "| {m,n}      | At least m and no more than n repeats|"
   ],
   "cell_type": "markdown",
   "metadata": {}
  },
  {
   "source": [
    "import re\n",
    "\n",
    "res = re.search(r\"ed\",\"abaiedsse\")\n",
    "\n",
    "print(res)\n",
    "print(res.start())\n",
    "print(res.end())\n",
    "print(res.string) "
   ],
   "cell_type": "code",
   "metadata": {},
   "execution_count": null,
   "outputs": []
  },
  {
   "cell_type": "code",
   "execution_count": null,
   "metadata": {},
   "outputs": [],
   "source": [
    "import nltk\n",
    "\n",
    "wordlist_en = [w.lower() for w in nltk.corpus.words.words(\"en\")]\n",
    "\n",
    "list_ =  [w for w in wordlist_en if re.search(r\"^ho\" , w)]\n",
    "print(len(list_))\n",
    "list_[:10]"
   ]
  },
  {
   "source": [
    "<h3 style =\"color: red\" > Tasks: <h3 />\n",
    "\n",
    "- extract all numbers with a length of 4 from wsj. \n",
    "\n",
    "- since the numbers are valid year numbers, what is the ratio of numbers from the 80s."
   ],
   "cell_type": "markdown",
   "metadata": {}
  },
  {
   "cell_type": "code",
   "execution_count": null,
   "metadata": {},
   "outputs": [],
   "source": [
    "wordlist_wsj = nltk.corpus.treebank.words()\n",
    "# your code here"
   ]
  },
  {
   "source": [
    "### more usefull functions"
   ],
   "cell_type": "markdown",
   "metadata": {}
  },
  {
   "cell_type": "code",
   "execution_count": null,
   "metadata": {},
   "outputs": [],
   "source": [
    "word = 'supercalifragilisticexpialidociou'\n",
    "a = re.findall(r'[aeiou]', word)\n",
    "a[:5]"
   ]
  },
  {
   "cell_type": "code",
   "execution_count": null,
   "metadata": {},
   "outputs": [],
   "source": [
    "word = 'Today is the 25th of July. It is a beautiful day. My mom said: \"dont run so fast!\". \\'Why?\\' did I ask.'\n",
    "a = re.sub(r'[0-9.!?\"*#\\']', \"\", word)\n",
    "a"
   ]
  },
  {
   "source": [
    "### Stemming"
   ],
   "cell_type": "markdown",
   "metadata": {}
  },
  {
   "cell_type": "code",
   "execution_count": null,
   "metadata": {},
   "outputs": [],
   "source": [
    "re.findall(r'^.*(ing|ly|ed|ious|ies|ive|es|s|ment)$', 'processing')"
   ]
  },
  {
   "cell_type": "code",
   "execution_count": null,
   "metadata": {},
   "outputs": [],
   "source": [
    "re.findall(r'^(.*)(ing|ly|ed|ious|ies|ive|es|s|ment)$', 'processing')"
   ]
  },
  {
   "cell_type": "code",
   "execution_count": null,
   "metadata": {},
   "outputs": [],
   "source": [
    "re.findall(r'^(.*?)(ing|ly|ed|ious|ies|ive|es|s|ment)$', 'processing')"
   ]
  },
  {
   "cell_type": "code",
   "execution_count": null,
   "metadata": {},
   "outputs": [],
   "source": [
    "def stem(word):\n",
    "    stem, suff = re.findall(r'^(.*?)(ing|ly|ed|ious|ies|ive|es|s|ment)$' , word)[0]\n",
    "    return stem, suff"
   ]
  },
  {
   "source": [
    "### Normalizing Text\n",
    "\n",
    "Text normalization is the transforming of text to an other form, where the relevant context is preservered. There is no all-purpose normalization procedure."
   ],
   "cell_type": "markdown",
   "metadata": {}
  },
  {
   "cell_type": "code",
   "execution_count": null,
   "metadata": {},
   "outputs": [],
   "source": [
    "example = \"\"\"DENNIS: Listen, strange women lying in ponds distributing swords\n",
    "is no basis for a system of government.  Supreme executive power derives from\n",
    "a mandate from the masses, not from some farcical aquatic ceremony.\"\"\""
   ]
  },
  {
   "cell_type": "code",
   "execution_count": null,
   "metadata": {},
   "outputs": [],
   "source": [
    "tokens = nltk.word_tokenize(example)\n",
    "tokens[:10]"
   ]
  },
  {
   "cell_type": "code",
   "execution_count": null,
   "metadata": {},
   "outputs": [],
   "source": [
    "tokens_s = [w.lower() for w in tokens]\n",
    "tokens_s[:10]"
   ]
  },
  {
   "cell_type": "code",
   "execution_count": null,
   "metadata": {},
   "outputs": [],
   "source": [
    "porter = nltk.PorterStemmer()\n",
    "lancaster = nltk.LancasterStemmer()\n",
    "\n",
    "tokens_sp = [porter.stem(w) for w in tokens_s]\n",
    "tokens_sl = [lancaster.stem(w) for w in tokens_s]"
   ]
  },
  {
   "cell_type": "code",
   "execution_count": null,
   "metadata": {},
   "outputs": [],
   "source": [
    "wnl = nltk.WordNetLemmatizer()\n",
    "\n",
    "tokens_sw = [wnl.lemmatize(w) for w in tokens_s]"
   ]
  },
  {
   "source": [
    "<h3 style =\"color: red\" > Tasks: <h3 />\n",
    "\n",
    "- write a compress function. \n",
    "\n",
    "- since words such as on and in are matched to the same letter n, expand your function that only words with a length of 3 or higher are compressed.\n"
   ],
   "cell_type": "markdown",
   "metadata": {}
  },
  {
   "cell_type": "code",
   "execution_count": null,
   "metadata": {},
   "outputs": [],
   "source": [
    "# your code here"
   ]
  },
  {
   "source": [
    "________________________"
   ],
   "cell_type": "markdown",
   "metadata": {}
  }
 ]
}